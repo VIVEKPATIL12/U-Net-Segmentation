{
  "nbformat": 4,
  "nbformat_minor": 0,
  "metadata": {
    "colab": {
      "provenance": [],
      "gpuType": "T4",
      "name": "U_net_Segmentation.ipynb",
      "include_colab_link": true
    },
    "kernelspec": {
      "name": "python3",
      "display_name": "Python 3"
    },
    "language_info": {
      "name": "python"
    },
    "accelerator": "GPU"
  },
  "cells": [
    {
      "cell_type": "markdown",
      "metadata": {
        "id": "view-in-github",
        "colab_type": "text"
      },
      "source": [
        "<a href=\"https://colab.research.google.com/github/VIVEKPATIL12/U-Net-Segmentation/blob/main/U_net_Segmentation.ipynb\" target=\"_parent\"><img src=\"https://colab.research.google.com/assets/colab-badge.svg\" alt=\"Open In Colab\"/></a>"
      ]
    },
    {
      "cell_type": "code",
      "source": [
        "import tensorflow as tf\n",
        "tf.config.list_physical_devices('GPU')"
      ],
      "metadata": {
        "id": "6OS0jucykOXA"
      },
      "execution_count": null,
      "outputs": []
    },
    {
      "cell_type": "code",
      "source": [
        "import os\n",
        "import json\n",
        "import cv2\n",
        "import numpy as np\n",
        "import time\n",
        "import matplotlib.pyplot as plt\n",
        "import tensorflow as tf\n",
        "from tensorflow.keras.layers import Input, Conv2D, MaxPooling2D, UpSampling2D, concatenate\n",
        "from tensorflow.keras.models import Model\n",
        "from sklearn.model_selection import train_test_split\n",
        "from tensorflow.keras.optimizers import Adam\n",
        "from google.colab import files\n",
        "uploaded = files.upload()\n",
        "!unzip -qq /content/swagat_dry.zip\n",
        "# Paths to the images and polygon annotations\n",
        "images_path = '/content/swagat_dry/images/'\n",
        "polygons_path = '/content/swagat_dry/polygons/'\n",
        "\n",
        "# Output path to store the results\n",
        "output_path = '/content/output_masks/'\n",
        "os.makedirs(output_path, exist_ok=True)\n",
        "\n"
      ],
      "metadata": {
        "id": "__QapSLjkXyb"
      },
      "execution_count": null,
      "outputs": []
    },
    {
      "cell_type": "code",
      "source": [
        "def load_images_and_masks(images_path, polygons_path):\n",
        "    images = []\n",
        "    masks = []\n",
        "\n",
        "    # List all image files\n",
        "    image_files = sorted([f for f in os.listdir(images_path) if f.endswith('.png')])\n",
        "\n",
        "    for img_file in image_files:\n",
        "        # Read image\n",
        "        img = cv2.imread(os.path.join(images_path, img_file))\n",
        "        img = cv2.cvtColor(img, cv2.COLOR_BGR2RGB)\n",
        "\n",
        "        # Load corresponding polygon mask from JSON\n",
        "        json_file = os.path.join(polygons_path, img_file.replace('.png', '.json'))\n",
        "        with open(json_file, 'r') as f:\n",
        "            polygons = json.load(f)\n",
        "\n",
        "        # Create a blank mask\n",
        "        mask = np.zeros(img.shape[:2], dtype=np.uint8)\n",
        "\n",
        "        # Draw polygons on the mask\n",
        "        for annotation in polygons['annotations']:\n",
        "            points = np.array(annotation['segmentation'][0], dtype=np.int32).reshape(-1, 2)\n",
        "            cv2.fillPoly(mask, [points], color=255)  # '255' for white color in mask\n",
        "\n",
        "        # Resize the images and masks if needed\n",
        "        img = cv2.resize(img, (256, 256))  # Resize to 256x256\n",
        "        mask = cv2.resize(mask, (256, 256))\n",
        "\n",
        "        # Normalize the images and masks\n",
        "        img = img / 255.0\n",
        "        mask = mask / 255.0\n",
        "\n",
        "        images.append(img)\n",
        "        masks.append(mask)\n",
        "\n",
        "    return np.array(images), np.array(masks)"
      ],
      "metadata": {
        "id": "DDOl0OoCkpjQ"
      },
      "execution_count": null,
      "outputs": []
    },
    {
      "cell_type": "code",
      "source": [
        "# Load images and masks\n",
        "images, masks = load_images_and_masks(images_path, polygons_path)\n",
        "print(f'Loaded {len(images)} images and masks.')\n",
        "def unet_model(input_size=(256, 256, 3)):\n",
        "    inputs = Input(input_size)\n",
        "\n",
        "    # Encoder\n",
        "    conv1 = Conv2D(64, 3, activation='relu', padding='same')(inputs)\n",
        "    conv1 = Conv2D(64, 3, activation='relu', padding='same')(conv1)\n",
        "    pool1 = MaxPooling2D(pool_size=(2, 2))(conv1)\n",
        "\n",
        "    conv2 = Conv2D(128, 3, activation='relu', padding='same')(pool1)\n",
        "    conv2 = Conv2D(128, 3, activation='relu', padding='same')(conv2)\n",
        "    pool2 = MaxPooling2D(pool_size=(2, 2))(conv2)\n",
        "\n",
        "    conv3 = Conv2D(256, 3, activation='relu', padding='same')(pool2)\n",
        "    conv3 = Conv2D(256, 3, activation='relu', padding='same')(conv3)\n",
        "    pool3 = MaxPooling2D(pool_size=(2, 2))(conv3)\n",
        "\n",
        "    conv4 = Conv2D(512, 3, activation='relu', padding='same')(pool3)\n",
        "    conv4 = Conv2D(512, 3, activation='relu', padding='same')(conv4)\n",
        "    pool4 = MaxPooling2D(pool_size=(2, 2))(conv4)\n",
        "\n",
        "    # Bottleneck\n",
        "    conv5 = Conv2D(1024, 3, activation='relu', padding='same')(pool4)\n",
        "    conv5 = Conv2D(1024, 3, activation='relu', padding='same')(conv5)\n",
        "\n",
        "    # Decoder\n",
        "    up6 = concatenate([UpSampling2D(size=(2, 2))(conv5), conv4], axis=-1)\n",
        "    conv6 = Conv2D(512, 3, activation='relu', padding='same')(up6)\n",
        "    conv6 = Conv2D(512, 3, activation='relu', padding='same')(conv6)\n",
        "\n",
        "    up7 = concatenate([UpSampling2D(size=(2, 2))(conv6), conv3], axis=-1)\n",
        "    conv7 = Conv2D(256, 3, activation='relu', padding='same')(up7)\n",
        "    conv7 = Conv2D(256, 3, activation='relu', padding='same')(conv7)\n",
        "\n",
        "    up8 = concatenate([UpSampling2D(size=(2, 2))(conv7), conv2], axis=-1)\n",
        "    conv8 = Conv2D(128, 3, activation='relu', padding='same')(up8)\n",
        "    conv8 = Conv2D(128, 3, activation='relu', padding='same')(conv8)\n",
        "\n",
        "    up9 = concatenate([UpSampling2D(size=(2, 2))(conv8), conv1], axis=-1)\n",
        "    conv9 = Conv2D(64, 3, activation='relu', padding='same')(up9)\n",
        "    conv9 = Conv2D(64, 3, activation='relu', padding='same')(conv9)\n",
        "\n",
        "    outputs = Conv2D(1, 1, activation='sigmoid')(conv9)\n",
        "\n",
        "    model = Model(inputs=[inputs], outputs=[outputs])\n",
        "\n",
        "    model.compile(optimizer=Adam(learning_rate=0.0001), loss='binary_crossentropy', metrics=['accuracy'])\n",
        "\n",
        "    return model\n",
        "\n",
        "model = unet_model()\n",
        "model.summary()"
      ],
      "metadata": {
        "id": "EKm6V2kLkz6M"
      },
      "execution_count": null,
      "outputs": []
    },
    {
      "cell_type": "code",
      "source": [
        "# Split data into training and validation sets\n",
        "X_train, X_val, y_train, y_val = train_test_split(images, masks, test_size=0.2, random_state=42)\n",
        "\n",
        "# Train the model\n",
        "history = model.fit(X_train, y_train, epochs=20, batch_size=8, validation_data=(X_val, y_val))\n",
        "# Train Accuracy\n",
        "train_loss, train_accuracy = model.evaluate(X_train, y_train)\n",
        "print(f'Train Accuracy: {train_accuracy * 100:.2f}%')\n",
        "# Validation Accuracy\n",
        "val_loss, val_accuracy = model.evaluate(X_val, y_val)\n",
        "print(f'Validation Accuracy: {val_accuracy * 100:.2f}%')\n",
        "\n",
        "\n"
      ],
      "metadata": {
        "id": "S-hDE0Q4kct9"
      },
      "execution_count": null,
      "outputs": []
    },
    {
      "cell_type": "code",
      "source": [
        "def apply_mask(image, mask):\n",
        "    # Convert mask to 3-channel image\n",
        "    mask_rgb = np.stack((mask,)*3, axis=-1)\n",
        "\n",
        "    # White color for the road (BGR format)\n",
        "    white = [255, 255, 255]\n",
        "\n",
        "    # Apply the mask with deep yellow color\n",
        "    masked_image = np.where(mask_rgb > 0.5, white, image)\n",
        "\n",
        "    return masked_image\n",
        "\n",
        "def process_and_save(images, output_path, model):\n",
        "       for idx, img in enumerate(images):\n",
        "           start_time = time.time()\n",
        "\n",
        "           # Predict the mask\n",
        "           mask = model.predict(np.expand_dims(img, axis=0))[0]\n",
        "           mask = (mask > 0.5).astype(np.uint8)\n",
        "\n",
        "           # Save the original and mask images\n",
        "           original_img = img * 255\n",
        "           cv2.imwrite(f'{output_path}/original_{idx}.png', original_img)\n",
        "           cv2.imwrite(f'{output_path}/mask_{idx}.png', mask * 255)\n",
        "\n",
        "           # Print processing time\n",
        "           processing_time = time.time() - start_time\n",
        "           print(f'Processed image {idx + 1} in {processing_time:.2f} seconds.')"
      ],
      "metadata": {
        "id": "NpvzWRx5k6yi"
      },
      "execution_count": null,
      "outputs": []
    },
    {
      "cell_type": "code",
      "source": [
        "# Process and save the output\n",
        "process_and_save(images, output_path, model)\n",
        "def visualize_all_results(output_path):\n",
        "       # List all the images in the output folder\n",
        "       image_files = sorted([f for f in os.listdir(output_path) if 'original' in f])\n",
        "\n",
        "       for idx in range(len(image_files)):\n",
        "           # Paths for the original image and mask\n",
        "           original_path = os.path.join(output_path, f'original_{idx}.png')\n",
        "           mask_path = os.path.join(output_path, f'mask_{idx}.png')\n",
        "\n",
        "           # Read the images\n",
        "           original = cv2.imread(original_path)\n",
        "           mask = cv2.imread(mask_path, cv2.IMREAD_GRAYSCALE)\n",
        "\n",
        "           # Plot the images side by side\n",
        "           fig, axs = plt.subplots(1, 2, figsize=(10, 5))\n",
        "           axs[0].imshow(cv2.cvtColor(original, cv2.COLOR_BGR2RGB))\n",
        "           axs[0].set_title(f'Original Image {idx + 1}')\n",
        "           axs[1].imshow(mask, cmap='gray')\n",
        "           axs[1].set_title(f'Mask {idx + 1}')\n",
        "\n",
        "           # Remove axis\n",
        "           for ax in axs:\n",
        "               ax.axis('off')\n",
        "\n",
        "           plt.show()\n",
        "\n",
        "# Visualize all results\n",
        "visualize_all_results(output_path)"
      ],
      "metadata": {
        "id": "RvwUCoMEkfR0"
      },
      "execution_count": null,
      "outputs": []
    }
  ]
}