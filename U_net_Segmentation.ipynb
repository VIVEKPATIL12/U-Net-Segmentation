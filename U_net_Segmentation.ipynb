{
  "nbformat": 4,
  "nbformat_minor": 0,
  "metadata": {
    "colab": {
      "provenance": [],
      "gpuType": "T4",
      "name": "U_net_Segmentation.ipynb",
      "include_colab_link": true
    },
    "kernelspec": {
      "name": "python3",
      "display_name": "Python 3"
    },
    "language_info": {
      "name": "python"
    },
    "accelerator": "GPU"
  },
  "cells": [
    {
      "cell_type": "markdown",
      "metadata": {
        "id": "view-in-github",
        "colab_type": "text"
      },
      "source": [
        "<a href=\"https://colab.research.google.com/github/VIVEKPATIL12/U-Net-Segmentation/blob/main/U_net_Segmentation.ipynb\" target=\"_parent\"><img src=\"https://colab.research.google.com/assets/colab-badge.svg\" alt=\"Open In Colab\"/></a>"
      ]
    },
    {
      "cell_type": "code",
      "source": [
        "!git clone https://github.com/aamirmiy/Boreas.git"
      ],
      "metadata": {
        "colab": {
          "base_uri": "https://localhost:8080/"
        },
        "id": "aGrwoSW3fjuN",
        "outputId": "2a3def9c-e8c9-4c3e-a6ed-05e23d348b88"
      },
      "execution_count": null,
      "outputs": [
        {
          "output_type": "stream",
          "name": "stdout",
          "text": [
            "Cloning into 'Boreas'...\n",
            "remote: Enumerating objects: 3008, done.\u001b[K\n",
            "remote: Counting objects: 100% (3/3), done.\u001b[K\n",
            "remote: Total 3008 (delta 0), reused 3 (delta 0), pack-reused 3005 (from 1)\u001b[K\n",
            "Receiving objects: 100% (3008/3008), 190.54 MiB | 18.86 MiB/s, done.\n"
          ]
        }
      ]
    },
    {
      "cell_type": "code",
      "source": [
        "\n",
        "import cv2\n",
        "import numpy as np\n",
        "import os\n",
        "\n",
        "class ROICalculator:\n",
        "    def __init__(self, original_size, new_size, focal_length, principal_points, radial_distortion):\n",
        "        self.original_size = np.array(original_size)\n",
        "        self.new_size = np.array(new_size)\n",
        "        self.scale_factor = self.new_size / self.original_size\n",
        "        self.focal_length = np.array(focal_length) * self.scale_factor[0]\n",
        "        self.principal_points = np.array(principal_points) * self.scale_factor\n",
        "        self.radial_distortion = np.array(radial_distortion)\n",
        "\n",
        "        # Create camera matrix\n",
        "        self.camera_matrix = np.array([\n",
        "            [self.focal_length[0], 0, self.principal_points[0]],\n",
        "            [0, self.focal_length[1], self.principal_points[1]],\n",
        "            [0, 0, 1]\n",
        "        ])\n",
        "\n",
        "        # Create distortion coefficients\n",
        "        self.dist_coeffs = np.array([self.radial_distortion[0], self.radial_distortion[1], 0, 0, 0])\n",
        "\n"
      ],
      "metadata": {
        "id": "AEeiZqtYfL6k"
      },
      "execution_count": null,
      "outputs": []
    },
    {
      "cell_type": "code",
      "source": [
        "  def calculate_road_line(self, distance, height_above_ground):\n",
        "        # Define 3D points of a line on the road at the given distance\n",
        "        road_width = 4  # Adjust based on typical road width\n",
        "        world_points = np.array([\n",
        "            [-road_width/2, 0, distance],  # Left point on road\n",
        "            [road_width/2, 0, distance]    # Right point on road\n",
        "        ], dtype=np.float32)\n",
        "\n",
        "        # Define camera pose (assuming camera is looking straight ahead)\n",
        "\n",
        "        rvec = np.array([0, 0, 0], dtype=np.float32)\n",
        "        #rvec = np.array([0, 0, 0], dtype=np.float32)\n",
        "        tvec = np.array([0, height_above_ground, 0], dtype=np.float32)\n",
        "\n",
        "        # Project 3D points to 2D image plane\n",
        "        image_points, _ = cv2.projectPoints(world_points, rvec, tvec, self.camera_matrix, self.dist_coeffs)\n",
        "\n",
        "        # Extract the line endpoints\n",
        "        left_point = tuple(map(int, image_points[0][0]))\n",
        "        right_point = tuple(map(int, image_points[1][0]))\n",
        "\n",
        "        return left_point, right_point\n",
        "\n"
      ],
      "metadata": {
        "id": "yZ_lnnV1fpGR"
      },
      "execution_count": null,
      "outputs": []
    },
    {
      "cell_type": "code",
      "source": [
        "def process_single_image_road_lines(image_path, roi_calculator, output_folder, start_distance, end_distance, interval):\n",
        "    if not os.path.exists(output_folder):\n",
        "        os.makedirs(output_folder)\n",
        "\n",
        "    # Read image\n",
        "    frame = cv2.imread(image_path)\n",
        "\n",
        "    if frame is None:\n",
        "        print(f\"Unable to read image: {image_path}\")\n",
        "        return None\n",
        "\n",
        "    lines = []\n",
        "\n",
        "    # Calculate road lines at different distances\n",
        "    for distance in range(start_distance, end_distance + 1, interval):\n",
        "        left_point, right_point = roi_calculator.calculate_road_line(distance, height_above_ground=1.5)\n",
        "        lines.append((distance, left_point, right_point))\n",
        "\n",
        "        # Draw line on road\n",
        "        color = (0, 255, 0)  # Green color\n",
        "        cv2.line(frame, left_point, right_point, color, 2)\n",
        "\n",
        "    # Save processed image\n",
        "    image_filename = os.path.basename(image_path)\n",
        "    output_path = os.path.join(output_folder, f\"processed_road_lines_{image_filename}\")\n",
        "    cv2.imwrite(output_path, frame)\n",
        "\n",
        "    print(f\"Processed image: Road lines calculated from {start_distance}m to {end_distance}m at {interval}m intervals\")\n",
        "\n",
        "    return frame, lines"
      ],
      "metadata": {
        "id": "n7Ah236AfuKx"
      },
      "execution_count": null,
      "outputs": []
    },
    {
      "cell_type": "code",
      "source": [
        "# Example usage\n",
        "original_size = [2448, 2048]\n",
        "new_size = [224, 224]\n",
        "focal_length = [1436.89437780124, 1442.58498490709]\n",
        "principal_points = [1218.77863491507, 1045.77362896196]\n",
        "radial_distortion = [0.0144210402954516, -0.0148287624062537]\n",
        "\n",
        "roi_calc = ROICalculator(original_size, new_size, focal_length, principal_points, radial_distortion)\n",
        "\n",
        "# Process a single image with road lines\n",
        "image_path = '/content/1616517895573662.png'\n",
        "output_folder = '/content/outputs'\n",
        "start_distance = 5  # Starting distance in meters\n",
        "end_distance = 15   # Ending distance in meters\n",
        "interval = 5      # Interval between lines in meters\n",
        "\n",
        "\n",
        "processed_frame, calculated_lines = process_single_image_road_lines(image_path, roi_calc, output_folder, start_distance, end_distance, interval)\n",
        "\n",
        "if processed_frame is not None:\n",
        "    # Display the processed image (optional)\n",
        "    processed_frame\n",
        "\n",
        "    print(\"Calculated Road Lines:\")\n",
        "    for distance, left_point, right_point in calculated_lines:\n",
        "        print(f\"Distance: {distance}m, Left: {left_point}, Right: {right_point}\")"
      ],
      "metadata": {
        "colab": {
          "base_uri": "https://localhost:8080/"
        },
        "id": "eTGhMSQ5h0pY",
        "outputId": "fc77af72-d742-4946-b02e-88feb1730bbf"
      },
      "execution_count": null,
      "outputs": [
        {
          "output_type": "stream",
          "name": "stdout",
          "text": [
            "Processed image: Road lines calculated from 5m to 15m at 5m intervals\n",
            "Calculated Road Lines:\n",
            "Distance: 5m, Left: (58, 154), Right: (164, 154)\n",
            "Distance: 10m, Left: (85, 134), Right: (137, 134)\n",
            "Distance: 15m, Left: (93, 127), Right: (129, 127)\n"
          ]
        }
      ]
    }
  ]
}